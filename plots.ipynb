{
 "cells": [
  {
   "cell_type": "code",
   "execution_count": null,
   "metadata": {},
   "outputs": [],
   "source": [
    "from curves import Demand, Supply\n",
    "import matplotlib.pyplot as plt\n",
    "\n",
    "demand = Demand(intercept=12, slope=-2)\n",
    "supply = Supply(intercept=0, slope=1)\n",
    "ax = demand.plot(max_q=demand.q_intercept)\n",
    "supply.plot(ax=ax, max_q=6)\n",
    "demand.equilibrium_plot(supply, ax=ax)\n",
    "demand.horizontal_shift(2)\n",
    "demand.equilibrium_plot(supply, ax=ax)\n",
    "plt.savefig(\"_demand_supply.png\")\n",
    "plt.show()"
   ]
  }
 ],
 "metadata": {
  "language_info": {
   "name": "python"
  }
 },
 "nbformat": 4,
 "nbformat_minor": 2
}
